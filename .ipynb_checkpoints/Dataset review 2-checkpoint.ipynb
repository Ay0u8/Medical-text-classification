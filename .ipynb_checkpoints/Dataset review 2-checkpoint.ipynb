{
 "cells": [
  {
   "cell_type": "code",
   "execution_count": 17,
   "id": "be793c72-2836-4ac6-82ee-4f67515daebb",
   "metadata": {},
   "outputs": [],
   "source": [
    "# Data Manipulation and Numerical Operations\n",
    "import pandas as pd\n",
    "import numpy as np\n",
    "\n",
    "# Text Preprocessing\n",
    "import nltk\n",
    "from nltk.corpus import stopwords\n",
    "from nltk.tokenize import word_tokenize\n",
    "from nltk.stem import PorterStemmer\n",
    "import string\n",
    "\n",
    "# Dataset Splitting and Feature Extraction\n",
    "from sklearn.model_selection import train_test_split\n",
    "from sklearn.feature_extraction.text import TfidfVectorizer\n",
    "\n",
    "# Machine Learning Models\n",
    "from sklearn.naive_bayes import MultinomialNB\n",
    "from sklearn.tree import DecisionTreeClassifier\n",
    "from sklearn.svm import SVC\n",
    "from sklearn.linear_model import LogisticRegression\n",
    "from sklearn.naive_bayes import GaussianNB\n",
    "\n",
    "# Model Evaluation\n",
    "from sklearn.metrics import classification_report, accuracy_score\n",
    "\n",
    "# Visualization\n",
    "import seaborn as sns\n",
    "import matplotlib.pyplot as plt\n",
    "\n",
    "# Word Embedding Models\n",
    "from gensim.models import Word2Vec\n",
    "from sentence_transformers import SentenceTransformer\n",
    "\n",
    "# BioBERT Model\n",
    "from transformers import AutoTokenizer, AutoModel\n",
    "import torch"
   ]
  },
  {
   "cell_type": "code",
   "execution_count": 2,
   "id": "88ddd64e-b919-490f-b6a8-114fae524cb1",
   "metadata": {},
   "outputs": [
    {
     "name": "stdout",
     "output_type": "stream",
     "text": [
      "\n",
      "Labels Preview:\n",
      "   condition_label                   condition_name\n",
      "0                1                        neoplasms\n",
      "1                2        digestive system diseases\n",
      "2                3          nervous system diseases\n",
      "3                4          cardiovascular diseases\n",
      "4                5  general pathological conditions\n",
      "\n",
      "Test Preview:\n",
      "   condition_label                                   medical_abstract\n",
      "0                3  Obstructive sleep apnea following topical orop...\n",
      "1                5  Neutrophil function and pyogenic infections in...\n",
      "2                5  A phase II study of combined methotrexate and ...\n",
      "3                1  Flow cytometric DNA analysis of parathyroid tu...\n",
      "4                4  Paraneoplastic vasculitic neuropathy: a treata...\n",
      "\n",
      "Train Preview:\n",
      "   condition_label                                   medical_abstract\n",
      "0                5  Tissue changes around loose prostheses. A cani...\n",
      "1                1  Neuropeptide Y and neuron-specific enolase lev...\n",
      "2                2  Sexually transmitted diseases of the colon, re...\n",
      "3                1  Lipolytic factors associated with murine and h...\n",
      "4                3  Does carotid restenosis predict an increased r...\n"
     ]
    }
   ],
   "source": [
    "# creating a preview of each csv\n",
    "df1 = pd.read_csv('Medical-Abstracts-TC-Corpus/medical_tc_labels.csv')\n",
    "df2 = pd.read_csv('Medical-Abstracts-TC-Corpus/medical_tc_test.csv')\n",
    "df3 = pd.read_csv('Medical-Abstracts-TC-Corpus/medical_tc_train.csv')\n",
    "\n",
    "# Preview the first few rows of each\n",
    "print(\"\\nLabels Preview:\")\n",
    "print(df1.head())\n",
    "\n",
    "print(\"\\nTest Preview:\")\n",
    "print(df2.head())\n",
    "\n",
    "print(\"\\nTrain Preview:\")\n",
    "print(df3.head())"
   ]
  },
  {
   "cell_type": "markdown",
   "id": "9072ae8f-96be-467a-9b94-470ee60bea0f",
   "metadata": {},
   "source": [
    "## Text processing\n",
    "\n",
    "First of all, a preprocessing fo the text is needed to work with more efficiency and have less issues and a better performance; in this case the operation\n",
    "that are going to be implemented to the text are the following:\n",
    "\n",
    "Lowercasing: Convert all text to lowercase to ensure uniformity.\n",
    "Tokenization: Split the text into individual words or tokens.\n",
    "Removing Stopwords: Eliminate common words like \"and,\" \"the,\" etc., that do nott add much value.\n",
    "Stemming or Lemmatization: Reduce words to their root forms.\n",
    "Removing Punctuation: Get rid of unnecessary symbols like periods, commas, etc.\n",
    "\n",
    "However we need first to install the nltk library or in this case already installed in the machine"
   ]
  },
  {
   "cell_type": "code",
   "execution_count": 3,
   "id": "dab0a6bb-c7a8-4aef-81af-b75769f095b6",
   "metadata": {},
   "outputs": [],
   "source": [
    "#!pip install nltk"
   ]
  },
  {
   "cell_type": "code",
   "execution_count": 4,
   "id": "65cbea45-34c5-4f55-8037-6c6f3e9e6952",
   "metadata": {},
   "outputs": [
    {
     "name": "stderr",
     "output_type": "stream",
     "text": [
      "[nltk_data] Downloading package punkt_tab to\n",
      "[nltk_data]     C:\\Users\\ayoub\\AppData\\Roaming\\nltk_data...\n",
      "[nltk_data]   Unzipping tokenizers\\punkt_tab.zip.\n",
      "[nltk_data] Downloading package stopwords to\n",
      "[nltk_data]     C:\\Users\\ayoub\\AppData\\Roaming\\nltk_data...\n",
      "[nltk_data]   Package stopwords is already up-to-date!\n"
     ]
    },
    {
     "name": "stdout",
     "output_type": "stream",
     "text": [
      "\n",
      "Training Set with Cleaned Text:\n",
      "                                    medical_abstract  \\\n",
      "0  Tissue changes around loose prostheses. A cani...   \n",
      "1  Neuropeptide Y and neuron-specific enolase lev...   \n",
      "2  Sexually transmitted diseases of the colon, re...   \n",
      "3  Lipolytic factors associated with murine and h...   \n",
      "4  Does carotid restenosis predict an increased r...   \n",
      "\n",
      "                                        cleaned_text  \n",
      "0  tissu chang around loos prosthes canin model i...  \n",
      "1  neuropeptid neuron-specif enolas level benign ...  \n",
      "2  sexual transmit diseas colon rectum anu challe...  \n",
      "3  lipolyt factor associ murin human cancer cache...  \n",
      "4  carotid restenosi predict increas risk late sy...  \n",
      "\n",
      "Test Set with Cleaned Text:\n",
      "                                    medical_abstract  \\\n",
      "0  Obstructive sleep apnea following topical orop...   \n",
      "1  Neutrophil function and pyogenic infections in...   \n",
      "2  A phase II study of combined methotrexate and ...   \n",
      "3  Flow cytometric DNA analysis of parathyroid tu...   \n",
      "4  Paraneoplastic vasculitic neuropathy: a treata...   \n",
      "\n",
      "                                        cleaned_text  \n",
      "0  obstruct sleep apnea follow topic oropharyng a...  \n",
      "1  neutrophil function pyogen infect bone marrow ...  \n",
      "2  phase ii studi combin methotrex teniposid infu...  \n",
      "3  flow cytometr dna analysi parathyroid tumor im...  \n",
      "4  paraneoplast vasculit neuropathi treatabl neur...  \n"
     ]
    }
   ],
   "source": [
    "# Downloading the necessary resources to tokenize and stopwords\n",
    "nltk.download('punkt_tab', force=True)\n",
    "nltk.download('stopwords')\n",
    "\n",
    "# Initialize the stemmer and stop words\n",
    "stemmer = PorterStemmer()\n",
    "stop_words = set(stopwords.words('english'))\n",
    "\n",
    "# Here is the processing function for the text\n",
    "def preprocess_text(text):\n",
    "    # Convert text to lowercase\n",
    "    text = text.lower()\n",
    "    \n",
    "    # Tokenize the text into words\n",
    "    tokens = word_tokenize(text)\n",
    "    \n",
    "    # Remove punctuation and stopwords\n",
    "    tokens = [word for word in tokens if word not in string.punctuation and word not in stop_words]\n",
    "    \n",
    "    # Apply stemming to reduce words to their root form\n",
    "    tokens = [stemmer.stem(word) for word in tokens]\n",
    "    \n",
    "    # Join tokens back into a string\n",
    "    return ' '.join(tokens)\n",
    "\n",
    "# Applying preprocessing to the 'medical_abstract' column in both training and test datasets\n",
    "df3['cleaned_text'] = df3['medical_abstract'].apply(preprocess_text)  # Training set\n",
    "df2['cleaned_text'] = df2['medical_abstract'].apply(preprocess_text)  # Test set\n",
    "\n",
    "# Preview the cleaned data\n",
    "print(\"\\nTraining Set with Cleaned Text:\")\n",
    "print(df3[['medical_abstract', 'cleaned_text']].head())\n",
    "\n",
    "print(\"\\nTest Set with Cleaned Text:\")\n",
    "print(df2[['medical_abstract', 'cleaned_text']].head())\n"
   ]
  },
  {
   "cell_type": "markdown",
   "id": "9fcb3e7d-969b-4fcb-b9ff-264be441102b",
   "metadata": {},
   "source": [
    "### Dataset splitting\n",
    "slip the training file(df3) because the test file will be used only at the end, the training file will be divided into 80% training and 20% validation set"
   ]
  },
  {
   "cell_type": "code",
   "execution_count": 5,
   "id": "c46ce429-ef20-4c10-9546-99483f701d2a",
   "metadata": {},
   "outputs": [],
   "source": [
    "#!pip install scikit-learn"
   ]
  },
  {
   "cell_type": "code",
   "execution_count": 7,
   "id": "6eb3cfae-7e91-42ab-b1b9-d719e5ed357e",
   "metadata": {},
   "outputs": [
    {
     "name": "stdout",
     "output_type": "stream",
     "text": [
      "Training set size: 9240\n",
      "Validation set size: 2310\n"
     ]
    }
   ],
   "source": [
    "#Splitting the Data into Training and Validation Sets and in 2 parts each because each set has labels and input data, df3 is the training csv\n",
    "X_train, X_val, y_train, y_val = train_test_split(df3['cleaned_text'], df3['condition_label'], test_size=0.2, random_state=42)\n",
    "\n",
    "#checking if the split has worked as 80/20 \n",
    "print(f\"Training set size: {len(X_train)}\")\n",
    "print(f\"Validation set size: {len(X_val)}\")\n"
   ]
  },
  {
   "cell_type": "markdown",
   "id": "69a583b6-05b9-435f-9ef4-fe1625809c85",
   "metadata": {},
   "source": [
    "# Bag-of-Words (TF-IDF) representation\n",
    "\n",
    "TF-IDF (Term Frequency-Inverse Document Frequency) will convert the text into numerical vectors based on the importance of each word in the corpus.\n"
   ]
  },
  {
   "cell_type": "code",
   "execution_count": 8,
   "id": "f2bb390e-1929-4888-b421-5c6926f71ec8",
   "metadata": {},
   "outputs": [
    {
     "name": "stdout",
     "output_type": "stream",
     "text": [
      "(9240, 24928)\n",
      "(2310, 24928)\n"
     ]
    }
   ],
   "source": [
    "# Create a TF-IDF vectorizer\n",
    "tfidf_vectorizer = TfidfVectorizer()\n",
    "\n",
    "# Fit on the training set and transform both training and validation sets\n",
    "X_train_tfidf = tfidf_vectorizer.fit_transform(X_train)\n",
    "X_val_tfidf = tfidf_vectorizer.transform(X_val)\n",
    "\n",
    "# Show shape of the resulting matrices\n",
    "print(X_train_tfidf.shape)\n",
    "print(X_val_tfidf.shape)"
   ]
  },
  {
   "cell_type": "markdown",
   "id": "8c6aaad8-fe37-4f50-886d-c52f7b7108fa",
   "metadata": {},
   "source": [
    "## Naive Bayes (Training and Evaluation)"
   ]
  },
  {
   "cell_type": "code",
   "execution_count": 9,
   "id": "afe0c46f-47bd-4883-899e-20fb0a521147",
   "metadata": {},
   "outputs": [
    {
     "name": "stdout",
     "output_type": "stream",
     "text": [
      "Naive Bayes (TF-IDF) Performance:\n",
      "              precision    recall  f1-score   support\n",
      "\n",
      "           1       0.72      0.61      0.66       479\n",
      "           2       1.00      0.00      0.01       224\n",
      "           3       0.30      0.01      0.02       295\n",
      "           4       0.70      0.53      0.60       520\n",
      "           5       0.41      0.78      0.54       792\n",
      "\n",
      "    accuracy                           0.51      2310\n",
      "   macro avg       0.63      0.39      0.37      2310\n",
      "weighted avg       0.58      0.51      0.46      2310\n",
      "\n"
     ]
    }
   ],
   "source": [
    "# Train Naive Bayes on the training set\n",
    "nb_model = MultinomialNB()\n",
    "nb_model.fit(X_train_tfidf, y_train)\n",
    "\n",
    "# Predict on the validation set\n",
    "y_pred = nb_model.predict(X_val_tfidf)\n",
    "\n",
    "# Evaluate the model's performance\n",
    "print(\"Naive Bayes (TF-IDF) Performance:\")\n",
    "print(classification_report(y_val, y_pred))\n"
   ]
  },
  {
   "cell_type": "markdown",
   "id": "0105a208-ffc1-4fcf-be71-39adf11e0cbd",
   "metadata": {},
   "source": [
    "## Decision Tree (Training and Evaluation)"
   ]
  },
  {
   "cell_type": "code",
   "execution_count": 10,
   "id": "ecbdd869-840d-427e-8f66-8792e26da59a",
   "metadata": {},
   "outputs": [
    {
     "name": "stdout",
     "output_type": "stream",
     "text": [
      "Decision Tree (TF-IDF) Performance:\n",
      "              precision    recall  f1-score   support\n",
      "\n",
      "           1       0.56      0.60      0.58       479\n",
      "           2       0.38      0.43      0.40       224\n",
      "           3       0.30      0.36      0.33       295\n",
      "           4       0.53      0.55      0.54       520\n",
      "           5       0.34      0.28      0.31       792\n",
      "\n",
      "    accuracy                           0.43      2310\n",
      "   macro avg       0.42      0.44      0.43      2310\n",
      "weighted avg       0.43      0.43      0.43      2310\n",
      "\n"
     ]
    }
   ],
   "source": [
    "# Train a Decision Tree classifier\n",
    "dt_model = DecisionTreeClassifier()\n",
    "dt_model.fit(X_train_tfidf, y_train)\n",
    "\n",
    "# Predict on the validation set\n",
    "y_pred = dt_model.predict(X_val_tfidf)\n",
    "\n",
    "# Evaluate the model's performance\n",
    "print(\"Decision Tree (TF-IDF) Performance:\")\n",
    "print(classification_report(y_val, y_pred))\n"
   ]
  },
  {
   "cell_type": "markdown",
   "id": "f0c74edc-a997-40ae-8b2f-0f17c9f6a8a7",
   "metadata": {},
   "source": [
    "## Support Vector Machine (SVM) (Training and Evaluation)"
   ]
  },
  {
   "cell_type": "code",
   "execution_count": 21,
   "id": "88042da6-2f20-43ea-b701-d19c4cce6e1b",
   "metadata": {},
   "outputs": [
    {
     "name": "stdout",
     "output_type": "stream",
     "text": [
      "SVM (TF-IDF) Performance:\n",
      "              precision    recall  f1-score   support\n",
      "\n",
      "           1       0.66      0.70      0.68       479\n",
      "           2       0.44      0.35      0.39       224\n",
      "           3       0.40      0.30      0.34       295\n",
      "           4       0.63      0.62      0.63       520\n",
      "           5       0.42      0.48      0.45       792\n",
      "\n",
      "    accuracy                           0.52      2310\n",
      "   macro avg       0.51      0.49      0.50      2310\n",
      "weighted avg       0.52      0.52      0.52      2310\n",
      "\n"
     ]
    }
   ],
   "source": [
    "# Train an SVM classifier\n",
    "svm_model = SVC()\n",
    "svm_model.fit(X_train_tfidf, y_train)\n",
    "\n",
    "# Predict on the validation set\n",
    "y_pred = svm_model.predict(X_val_tfidf)\n",
    "\n",
    "# Evaluate the model's performance\n",
    "print(\"SVM (TF-IDF) Performance:\")\n",
    "print(classification_report(y_val, y_pred))\n"
   ]
  },
  {
   "cell_type": "markdown",
   "id": "d7a8a498-025c-4378-8ced-1357d9c02ea6",
   "metadata": {},
   "source": [
    "## Logistic Regression (Training and Evaluation)"
   ]
  },
  {
   "cell_type": "code",
   "execution_count": 23,
   "id": "b1a9dccd-e512-4656-80d2-f0d9fe10557f",
   "metadata": {},
   "outputs": [
    {
     "name": "stdout",
     "output_type": "stream",
     "text": [
      "Logistic Regression (TF-IDF) Performance:\n",
      "              precision    recall  f1-score   support\n",
      "\n",
      "           1       0.69      0.75      0.71       479\n",
      "           2       0.54      0.40      0.46       224\n",
      "           3       0.52      0.41      0.46       295\n",
      "           4       0.67      0.65      0.66       520\n",
      "           5       0.48      0.54      0.51       792\n",
      "\n",
      "    accuracy                           0.58      2310\n",
      "   macro avg       0.58      0.55      0.56      2310\n",
      "weighted avg       0.58      0.58      0.57      2310\n",
      "\n"
     ]
    }
   ],
   "source": [
    "# Step 1: Train a Logistic Regression model\n",
    "logreg_model = LogisticRegression(max_iter=1000, random_state=42)\n",
    "logreg_model.fit(X_train_tfidf, y_train)\n",
    "\n",
    "# Step 2: Make predictions on the validation set\n",
    "y_pred_logreg = logreg_model.predict(X_val_tfidf)\n",
    "\n",
    "# Step 3: Evaluate the model's performance\n",
    "print(\"Logistic Regression (TF-IDF) Performance:\")\n",
    "logreg_report = classification_report(y_val, y_pred_logreg, output_dict=True)\n",
    "print(classification_report(y_val, y_pred_logreg))"
   ]
  },
  {
   "cell_type": "markdown",
   "id": "c9196b08-9df7-4676-b1df-7f589b5cf098",
   "metadata": {},
   "source": [
    "## Comparison of the result with TF-IDF"
   ]
  },
  {
   "cell_type": "code",
   "execution_count": 11,
   "id": "7ce19ebb-a427-4b17-bc27-f01ae01b2266",
   "metadata": {},
   "outputs": [],
   "source": [
    "# Dictionary to store model results\n",
    "results = {\n",
    "    'Model': [],\n",
    "    'Accuracy': [],\n",
    "    'Precision (weighted avg)': [],\n",
    "    'Recall (weighted avg)': [],\n",
    "    'F1-Score (weighted avg)': []\n",
    "}\n",
    "\n",
    "# Helper function to evaluate and store model results\n",
    "def evaluate_model(model_name, model, X_train, y_train, X_val, y_val):\n",
    "    # Train the model\n",
    "    model.fit(X_train, y_train)\n",
    "    \n",
    "    # Predict on validation set\n",
    "    y_pred = model.predict(X_val)\n",
    "    \n",
    "    # Get classification report\n",
    "    report = classification_report(y_val, y_pred, output_dict=True)\n",
    "    \n",
    "    # Store the results\n",
    "    results['Model'].append(model_name)\n",
    "    results['Accuracy'].append(accuracy_score(y_val, y_pred))\n",
    "    results['Precision (weighted avg)'].append(report['weighted avg']['precision'])\n",
    "    results['Recall (weighted avg)'].append(report['weighted avg']['recall'])\n",
    "    results['F1-Score (weighted avg)'].append(report['weighted avg']['f1-score'])\n",
    "\n",
    "# 1. Multinomial Naive Bayes\n",
    "nb_model = MultinomialNB()\n",
    "evaluate_model(\"Multinomial Naive Bayes\", nb_model, X_train_tfidf, y_train, X_val_tfidf, y_val)\n",
    "\n",
    "# 2. Decision Tree\n",
    "dt_model = DecisionTreeClassifier(random_state=42)\n",
    "evaluate_model(\"Decision Tree\", dt_model, X_train_tfidf, y_train, X_val_tfidf, y_val)\n",
    "\n",
    "# 3. Support Vector Machine (SVM)\n",
    "svm_model = SVC(kernel='linear', random_state=42)\n",
    "evaluate_model(\"Support Vector Machine\", svm_model, X_train_tfidf, y_train, X_val_tfidf, y_val)\n",
    "\n",
    "# 4. Logistic Regression\n",
    "logreg_model = LogisticRegression(random_state=42)\n",
    "evaluate_model(\"Logistic Regression\", logreg_model, X_train_tfidf, y_train, X_val_tfidf, y_val)\n"
   ]
  },
  {
   "cell_type": "code",
   "execution_count": 12,
   "id": "66b61990-566a-49d8-a37e-c7440e2d2b9f",
   "metadata": {},
   "outputs": [
    {
     "data": {
      "image/png": "[encoded data removed]",
      "text/plain": [
       "<Figure size 1000x600 with 2 Axes>"
      ]
     },
     "metadata": {},
     "output_type": "display_data"
    }
   ],
   "source": [
    "# Convert the results dictionary into a DataFrame\n",
    "results_df_tfidf = pd.DataFrame(results)\n",
    "\n",
    "# Set up the figure for the heatmap\n",
    "plt.figure(figsize=(10, 6))\n",
    "sns.heatmap(results_df_tfidf.set_index('Model').T, annot=True, cmap='viridis', linewidths=0.5, fmt=\".2f\")\n",
    "plt.title('Comparison of Model Performance using TF-IDF Feature Representation')\n",
    "plt.show()\n"
   ]
  },
  {
   "cell_type": "markdown",
   "id": "4b939b15-46aa-4fa4-9404-6262b1110744",
   "metadata": {},
   "source": [
    "# Word Embeddings (Word2Vec) representation\n",
    "\n",
    "We will use the Gensim library to train a Word2Vec model and create word embeddings for the training and validation sets.\n",
    "take out the comment if gensim is not already installed in your machine\n",
    "\n",
    "check version and the inner acrchitecture of word2vec after"
   ]
  },
  {
   "cell_type": "code",
   "execution_count": 24,
   "id": "003e1ff2-11eb-44dc-b61a-9db23a962cd5",
   "metadata": {},
   "outputs": [],
   "source": [
    "#!pip install gensim"
   ]
  },
  {
   "cell_type": "code",
   "execution_count": 51,
   "id": "f576eae9-8e1f-4c54-8cd9-a3ea3977f687",
   "metadata": {},
   "outputs": [],
   "source": [
    "df3['tokenized_text'] = df3['cleaned_text'].apply(lambda x: x.split())\n",
    "df2['tokenized_text'] = df2['cleaned_text'].apply(lambda x: x.split())\n",
    "\n",
    "# Train a Word2Vec model on the tokenized training data\n",
    "word2vec_model = Word2Vec(sentences=df3['tokenized_text'], vector_size=100, window=5, min_count=1, workers=4)"
   ]
  },
  {
   "cell_type": "markdown",
   "id": "22b73983-8600-45d1-9644-03876bf2d814",
   "metadata": {},
   "source": [
    "Now that we have a trained Word2Vec model, we need to convert each document (list of words) into a single vector. This is typically done by averaging the word vectors for each word in the document, here is how to do so:"
   ]
  },
  {
   "cell_type": "code",
   "execution_count": 53,
   "id": "68d3a2e9-f279-427b-88c9-0d209e740937",
   "metadata": {},
   "outputs": [
    {
     "name": "stdout",
     "output_type": "stream",
     "text": [
      "X_train_word2vec shape: (9240, 100)\n",
      "y_train shape: (9240,)\n",
      "X_val_word2vec shape: (2310, 100)\n",
      "y_val shape: (2310,)\n"
     ]
    }
   ],
   "source": [
    "# Step 1: Split the Data\n",
    "X_train, X_val, y_train, y_val = train_test_split(df3['cleaned_text'], df3['condition_label'], test_size=0.2, random_state=42)\n",
    "\n",
    "# Step 2: Tokenize the Cleaned Text for Training and Validation Sets\n",
    "X_train_tokenized = X_train.apply(lambda x: x.split())\n",
    "X_val_tokenized = X_val.apply(lambda x: x.split())\n",
    "\n",
    "# Step 3: Train a Word2Vec Model on the Tokenized Training Data\n",
    "word2vec_model = Word2Vec(sentences=X_train_tokenized, vector_size=100, window=5, min_count=1, workers=4)\n",
    "\n",
    "# Step 4: Generate Word2Vec Embeddings for Each Document\n",
    "def get_word2vec_embeddings(text, model):\n",
    "    vectors = [model.wv[word] for word in text if word in model.wv]\n",
    "    if vectors:\n",
    "        return np.mean(vectors, axis=0)\n",
    "    else:\n",
    "        return np.zeros(100)  # Return a vector of zeros if the document has no known words\n",
    "\n",
    "# Apply the embedding function to the training and validation sets\n",
    "X_train_word2vec = X_train_tokenized.apply(lambda x: get_word2vec_embeddings(x, word2vec_model))\n",
    "X_val_word2vec = X_val_tokenized.apply(lambda x: get_word2vec_embeddings(x, word2vec_model))\n",
    "\n",
    "# Convert the results to NumPy arrays for use in the models\n",
    "X_train_word2vec = np.vstack(X_train_word2vec)\n",
    "X_val_word2vec = np.vstack(X_val_word2vec)\n",
    "\n",
    "# Print shapes to verify consistency\n",
    "print(\"X_train_word2vec shape:\", X_train_word2vec.shape)\n",
    "print(\"y_train shape:\", y_train.shape)\n",
    "print(\"X_val_word2vec shape:\", X_val_word2vec.shape)\n",
    "print(\"y_val shape:\", y_val.shape)\n"
   ]
  },
  {
   "cell_type": "markdown",
   "id": "29514820-63d6-47a5-946f-ab83a5a18ec4",
   "metadata": {},
   "source": [
    "## Gaussian Naive Bayes with Word2Vec\n",
    "\n",
    "To use Naive Bayes with Word2Vec, we will use Gaussian Naive Bayes, which is designed for continuous data like the dense embeddings from Word2Vec."
   ]
  },
  {
   "cell_type": "code",
   "execution_count": 57,
   "id": "41df6236-f159-48e8-bff9-1be04ce7bb7e",
   "metadata": {},
   "outputs": [
    {
     "name": "stdout",
     "output_type": "stream",
     "text": [
      "Gaussian Naive Bayes (Word2Vec) Performance:\n",
      "              precision    recall  f1-score   support\n",
      "\n",
      "           1       0.62      0.69      0.66       479\n",
      "           2       0.33      0.42      0.37       224\n",
      "           3       0.31      0.59      0.41       295\n",
      "           4       0.58      0.70      0.64       520\n",
      "           5       0.45      0.18      0.25       792\n",
      "\n",
      "    accuracy                           0.48      2310\n",
      "   macro avg       0.46      0.52      0.46      2310\n",
      "weighted avg       0.49      0.48      0.45      2310\n",
      "\n"
     ]
    }
   ],
   "source": [
    "\n",
    "# Train a Gaussian Naive Bayes classifier using Word2Vec embeddings\n",
    "gnb_model = GaussianNB()\n",
    "gnb_model.fit(X_train_word2vec, y_train)\n",
    "\n",
    "# Predict on the validation set\n",
    "y_pred_gnb = gnb_model.predict(X_val_word2vec)\n",
    "\n",
    "# Evaluate the model's performance\n",
    "print(\"Gaussian Naive Bayes (Word2Vec) Performance:\")\n",
    "print(classification_report(y_val, y_pred_gnb))\n"
   ]
  },
  {
   "cell_type": "markdown",
   "id": "91055cdb-a7cc-4267-8d3a-ef4d586269d3",
   "metadata": {},
   "source": [
    "## Decision Tree with Word2Vec"
   ]
  },
  {
   "cell_type": "code",
   "execution_count": 60,
   "id": "ee03369c-6ea3-4c51-9329-695e64d96e64",
   "metadata": {},
   "outputs": [
    {
     "name": "stdout",
     "output_type": "stream",
     "text": [
      "Decision Tree (Word2Vec) Performance:\n",
      "              precision    recall  f1-score   support\n",
      "\n",
      "           1       0.50      0.55      0.52       479\n",
      "           2       0.15      0.19      0.17       224\n",
      "           3       0.19      0.24      0.21       295\n",
      "           4       0.45      0.47      0.46       520\n",
      "           5       0.25      0.19      0.22       792\n",
      "\n",
      "    accuracy                           0.33      2310\n",
      "   macro avg       0.31      0.33      0.32      2310\n",
      "weighted avg       0.33      0.33      0.33      2310\n",
      "\n"
     ]
    }
   ],
   "source": [
    "# Train a Decision Tree classifier using Word2Vec embeddings\n",
    "dt_model = DecisionTreeClassifier(random_state=42)\n",
    "dt_model.fit(X_train_word2vec, y_train)\n",
    "\n",
    "# Predict on the validation set\n",
    "y_pred_dt = dt_model.predict(X_val_word2vec)\n",
    "\n",
    "# Evaluate the model's performance\n",
    "print(\"Decision Tree (Word2Vec) Performance:\")\n",
    "print(classification_report(y_val, y_pred_dt))\n"
   ]
  },
  {
   "cell_type": "markdown",
   "id": "f46d40ca-e91f-4a3d-8a2f-00beb2ebcdc8",
   "metadata": {},
   "source": [
    "## Support Vector Machine (SVM) with Word2Vec"
   ]
  },
  {
   "cell_type": "code",
   "execution_count": 18,
   "id": "8fdc5d0f-ffa9-4e2a-a294-99e6ff4a3aad",
   "metadata": {},
   "outputs": [
    {
     "name": "stdout",
     "output_type": "stream",
     "text": [
      "SVM (Word2Vec) Performance:\n",
      "              precision    recall  f1-score   support\n",
      "\n",
      "           1       0.70      0.73      0.71       479\n",
      "           2       0.53      0.28      0.37       224\n",
      "           3       0.55      0.31      0.40       295\n",
      "           4       0.68      0.67      0.67       520\n",
      "           5       0.47      0.60      0.53       792\n",
      "\n",
      "    accuracy                           0.58      2310\n",
      "   macro avg       0.58      0.52      0.54      2310\n",
      "weighted avg       0.58      0.58      0.57      2310\n",
      "\n"
     ]
    }
   ],
   "source": [
    "# Train an SVM classifier using Word2Vec embeddings\n",
    "svm_model = SVC(kernel='linear', random_state=42)\n",
    "svm_model.fit(X_train_word2vec, y_train)\n",
    "\n",
    "# Predict on the validation set\n",
    "y_pred_svm = svm_model.predict(X_val_word2vec)\n",
    "\n",
    "# Evaluate the model's performance\n",
    "print(\"SVM (Word2Vec) Performance:\")\n",
    "print(classification_report(y_val, y_pred_svm))\n"
   ]
  },
  {
   "cell_type": "markdown",
   "id": "f6dbad6c-941a-4df8-b55c-a94d9df8db23",
   "metadata": {},
   "source": [
    "## Logistic Regression with Word2Vec"
   ]
  },
  {
   "cell_type": "code",
   "execution_count": 62,
   "id": "7ae6d931-cc59-45ff-b2d8-680c637eddb6",
   "metadata": {},
   "outputs": [
    {
     "name": "stdout",
     "output_type": "stream",
     "text": [
      "Logistic Regression (Word2Vec) Performance:\n",
      "              precision    recall  f1-score   support\n",
      "\n",
      "           1       0.70      0.71      0.70       479\n",
      "           2       0.56      0.30      0.39       224\n",
      "           3       0.51      0.39      0.44       295\n",
      "           4       0.67      0.64      0.65       520\n",
      "           5       0.47      0.58      0.52       792\n",
      "\n",
      "    accuracy                           0.57      2310\n",
      "   macro avg       0.58      0.52      0.54      2310\n",
      "weighted avg       0.58      0.57      0.57      2310\n",
      "\n"
     ]
    }
   ],
   "source": [
    "# Train a Logistic Regression classifier using Word2vec embeddings\n",
    "logreg_model = LogisticRegression(max_iter=1000, random_state=42)\n",
    "logreg_model.fit(X_train_word2vec, y_train)\n",
    "\n",
    "# Predict on the validatio set\n",
    "y_pred_logreg = logreg_model.predict(X_val_word2vec)\n",
    "\n",
    "# Evaluate the model's performance\n",
    "print(\"Logistic Regression (Word2Vec) Performance:\")\n",
    "print(classification_report(y_val, y_pred_logreg))"
   ]
  },
  {
   "cell_type": "markdown",
   "id": "af42186b-e884-47d5-8a04-f59845d78347",
   "metadata": {},
   "source": [
    "## Comparison of the result with Word2vec"
   ]
  },
  {
   "cell_type": "code",
   "execution_count": 20,
   "id": "fddc394e-fb23-4664-b3ce-db7454a2a5a7",
   "metadata": {},
   "outputs": [],
   "source": [
    "# Dictionary to store model results\n",
    "results_word2vec = {\n",
    "    'Model': [],\n",
    "    'Accuracy': [],\n",
    "    'Precision (weighted avg)': [],\n",
    "    'Recall (weighted avg)': [],\n",
    "    'F1-Score (weighted avg)': []\n",
    "}\n",
    "\n",
    "# Helper function to evaluate and store model results\n",
    "def evaluate_model_word2vec(model_name, model, X_train, y_train, X_val, y_val):\n",
    "    # Train the model\n",
    "    model.fit(X_train, y_train)\n",
    "    \n",
    "    # Predict on validation set\n",
    "    y_pred = model.predict(X_val)\n",
    "    \n",
    "    # Get classification report\n",
    "    report = classification_report(y_val, y_pred, output_dict=True)\n",
    "    \n",
    "    # Store the results\n",
    "    results_word2vec['Model'].append(model_name)\n",
    "    results_word2vec['Accuracy'].append(accuracy_score(y_val, y_pred))\n",
    "    results_word2vec['Precision (weighted avg)'].append(report['weighted avg']['precision'])\n",
    "    results_word2vec['Recall (weighted avg)'].append(report['weighted avg']['recall'])\n",
    "    results_word2vec['F1-Score (weighted avg)'].append(report['weighted avg']['f1-score'])\n",
    "\n",
    "# 1. Gaussian Naive Bayes\n",
    "nb_model = GaussianNB()\n",
    "evaluate_model_word2vec(\"Gaussian Naive Bayes\", nb_model, X_train_word2vec, y_train, X_val_word2vec, y_val)\n",
    "\n",
    "# 2. Decision Tree\n",
    "dt_model = DecisionTreeClassifier(random_state=42)\n",
    "evaluate_model_word2vec(\"Decision Tree\", dt_model, X_train_word2vec, y_train, X_val_word2vec, y_val)\n",
    "\n",
    "# 3. Support Vector Machine (SVM)\n",
    "svm_model = SVC(kernel='linear', random_state=42)\n",
    "evaluate_model_word2vec(\"Support Vector Machine\", svm_model, X_train_word2vec, y_train, X_val_word2vec, y_val)\n",
    "\n",
    "# 4. Logistic Regression\n",
    "logreg_model = LogisticRegression(max_iter=500, random_state=42)\n",
    "evaluate_model_word2vec(\"Logistic Regression\", logreg_model, X_train_word2vec, y_train, X_val_word2vec, y_val)"
   ]
  },
  {
   "cell_type": "code",
   "execution_count": 21,
   "id": "8f14f304-5cb8-48c6-8d63-a5aba93cd584",
   "metadata": {},
   "outputs": [
    {
     "data": {
      "image/png": "[encoded data removed]",
      "text/plain": [
       "<Figure size 1000x600 with 2 Axes>"
      ]
     },
     "metadata": {},
     "output_type": "display_data"
    }
   ],
   "source": [
    "# Convert the results dictionary into a DataFrame\n",
    "results_df_word2vec = pd.DataFrame(results_word2vec)\n",
    "\n",
    "# Set up the figure for the heatmap\n",
    "plt.figure(figsize=(10, 6))\n",
    "sns.heatmap(results_df_word2vec.set_index('Model').T, annot=True, cmap='viridis', linewidths=0.5, fmt=\".2f\")\n",
    "plt.title('Comparison of Model Performance using Word2Vec Feature Representation')\n",
    "plt.show()\n"
   ]
  },
  {
   "cell_type": "markdown",
   "id": "b04fe624-4c37-4460-8a15-0aff6c1e95a9",
   "metadata": {},
   "source": [
    "# Word Embeddings (GloVe) representation"
   ]
  },
  {
   "cell_type": "markdown",
   "id": "cf911c02-e468-4489-9712-6e4f3fdf2aed",
   "metadata": {},
   "source": [
    "GloVe creates word embeddings by analyzing the global co-occurrence of words across a corpus, while Word2Vec uses a predictive approach that learns word representations based on their local context (neighboring words). GloVe focuses on capturing global relationships between words, whereas Word2Vec relies on learning patterns through context-based predictions."
   ]
  },
  {
   "cell_type": "markdown",
   "id": "92df9663-a088-49e2-90a0-86e1bdcc129e",
   "metadata": {},
   "source": [
    "## Load GloVe embeddings"
   ]
  },
  {
   "cell_type": "markdown",
   "id": "4f5d8e2a-bd56-49ee-b18b-1c0240d10b56",
   "metadata": {},
   "source": [
    "They provide a way to represent words in a numerical form that can capture semantic meanings and relationships. These embeddings, which are pre-trained on large text corpora, help the machine learning models understand the context and relationships between words without needing to train embeddings from scratch. By loading GloVe embeddings, we can leverage this pre-trained knowledge to improve the performance of our models in text classification tasks like the one in your project."
   ]
  },
  {
   "cell_type": "code",
   "execution_count": 64,
   "id": "cdf74347-6eb1-4ce6-a3a9-5454d3d6eeea",
   "metadata": {},
   "outputs": [],
   "source": [
    "def load_glove_vectors(glove_file_path):\n",
    "    embeddings_index = {}\n",
    "    with open(glove_file_path, 'r', encoding='utf-8') as f:\n",
    "        for line in f:\n",
    "            values = line.split()\n",
    "            word = values[0]\n",
    "            vector = np.array(values[1:], dtype='float32')\n",
    "            embeddings_index[word] = vector\n",
    "    return embeddings_index\n",
    "\n",
    "glove_file_path = \"GloVe-files/glove.6B.100d.txt\" \n",
    "glove_embeddings = load_glove_vectors(glove_file_path)"
   ]
  },
  {
   "cell_type": "markdown",
   "id": "b78abefb-7454-4d8e-80bd-185b47d379e0",
   "metadata": {},
   "source": [
    "The choice of usage of 100 dimensional GloVe vectors instead is due to the capacity to capture important information without requiring an excessive amount of computational power.\n",
    "Higher-dimensional vectors (e.g., 200d or 300d) might offer more detailed word relationships, but they also come with increased memory and processing requirements."
   ]
  },
  {
   "cell_type": "markdown",
   "id": "0e55e1ee-604c-4935-a08f-16d484380527",
   "metadata": {},
   "source": [
    "## Convert cleaned text to GloVe embeddings"
   ]
  },
  {
   "cell_type": "code",
   "execution_count": 67,
   "id": "2e2304d5-1172-4b7e-9a71-b3b5f6d4b8ed",
   "metadata": {},
   "outputs": [],
   "source": [
    "def get_glove_embeddings(text, glove_embeddings, embedding_dim=100):\n",
    "    words = text.split()\n",
    "    vectors = [glove_embeddings[word] for word in words if word in glove_embeddings]\n",
    "    if len(vectors) > 0:\n",
    "        return np.mean(vectors, axis=0)\n",
    "    else:\n",
    "        return np.zeros(embedding_dim)"
   ]
  },
  {
   "cell_type": "markdown",
   "id": "5f05f38b-d2f2-4ac3-b421-d9f72e76e186",
   "metadata": {},
   "source": [
    "## Apply the GloVe embeddings to training and validation datasets"
   ]
  },
  {
   "cell_type": "code",
   "execution_count": 69,
   "id": "10231b6e-3362-4389-9044-15bc305f6c56",
   "metadata": {},
   "outputs": [],
   "source": [
    "X_train_glove = np.vstack(X_train.apply(lambda x: get_glove_embeddings(x, glove_embeddings)))\n",
    "X_val_glove = np.vstack(X_val.apply(lambda x: get_glove_embeddings(x, glove_embeddings)))"
   ]
  },
  {
   "cell_type": "markdown",
   "id": "b3b6fcdd-ea17-4058-8a0a-e3ab5cc4384c",
   "metadata": {},
   "source": [
    "## Train and evaluate the models"
   ]
  },
  {
   "cell_type": "markdown",
   "id": "af00899c-f42c-4ebd-9613-6f2392128e55",
   "metadata": {},
   "source": [
    "The text has been treated in order to be compatible with the models, Naives Bayes, Decision Tree and SVM"
   ]
  },
  {
   "cell_type": "markdown",
   "id": "dd8b71f9-5e1a-4bbc-8af6-5ce9df0446a7",
   "metadata": {},
   "source": [
    "### Naive Bayes"
   ]
  },
  {
   "cell_type": "code",
   "execution_count": 76,
   "id": "4e584eff-b2d7-4e7b-b0af-68ce56483c91",
   "metadata": {},
   "outputs": [
    {
     "name": "stdout",
     "output_type": "stream",
     "text": [
      "GloVe + Gaussian Naive Bayes Performance:\n",
      "              precision    recall  f1-score   support\n",
      "\n",
      "           1       0.53      0.59      0.56       479\n",
      "           2       0.28      0.26      0.27       224\n",
      "           3       0.28      0.47      0.35       295\n",
      "           4       0.46      0.56      0.51       520\n",
      "           5       0.41      0.22      0.29       792\n",
      "\n",
      "    accuracy                           0.41      2310\n",
      "   macro avg       0.39      0.42      0.40      2310\n",
      "weighted avg       0.42      0.41      0.40      2310\n",
      "\n"
     ]
    }
   ],
   "source": [
    "gnb_model = GaussianNB()\n",
    "gnb_model.fit(X_train_glove, y_train)\n",
    "y_pred_gnb = gnb_model.predict(X_val_glove)\n",
    "print(\"GloVe + Gaussian Naive Bayes Performance:\")\n",
    "print(classification_report(y_val, y_pred_gnb))"
   ]
  },
  {
   "cell_type": "markdown",
   "id": "a25d41e9-eed4-4b10-a509-1aedd2cbe677",
   "metadata": {},
   "source": [
    "### Decision Tree"
   ]
  },
  {
   "cell_type": "code",
   "execution_count": 79,
   "id": "dd0c03d1-aeb2-4810-926f-8a2bbf921a6f",
   "metadata": {},
   "outputs": [
    {
     "name": "stdout",
     "output_type": "stream",
     "text": [
      "GloVe + Decision Tree Performance:\n",
      "              precision    recall  f1-score   support\n",
      "\n",
      "           1       0.35      0.40      0.38       479\n",
      "           2       0.06      0.08      0.07       224\n",
      "           3       0.14      0.18      0.16       295\n",
      "           4       0.31      0.27      0.29       520\n",
      "           5       0.23      0.18      0.20       792\n",
      "\n",
      "    accuracy                           0.24      2310\n",
      "   macro avg       0.22      0.22      0.22      2310\n",
      "weighted avg       0.25      0.24      0.24      2310\n",
      "\n"
     ]
    }
   ],
   "source": [
    "dt_model = DecisionTreeClassifier(random_state=42)\n",
    "dt_model.fit(X_train_glove, y_train)\n",
    "y_pred_dt = dt_model.predict(X_val_glove)\n",
    "print(\"GloVe + Decision Tree Performance:\")\n",
    "print(classification_report(y_val, y_pred_dt))"
   ]
  },
  {
   "cell_type": "markdown",
   "id": "6e8f3563-dfca-4d3a-b8e2-d214f95abcb0",
   "metadata": {},
   "source": [
    "### Support Vector Machine (SVM)"
   ]
  },
  {
   "cell_type": "code",
   "execution_count": 27,
   "id": "dbbe9229-892d-4f16-aa1e-6be27054c5f2",
   "metadata": {
    "scrolled": true
   },
   "outputs": [
    {
     "name": "stdout",
     "output_type": "stream",
     "text": [
      "GloVe + Support Vector Machine Performance:\n",
      "              precision    recall  f1-score   support\n",
      "\n",
      "           1       0.61      0.68      0.64       479\n",
      "           2       0.11      0.00      0.01       224\n",
      "           3       0.56      0.20      0.30       295\n",
      "           4       0.59      0.54      0.57       520\n",
      "           5       0.43      0.65      0.52       792\n",
      "\n",
      "    accuracy                           0.51      2310\n",
      "   macro avg       0.46      0.41      0.41      2310\n",
      "weighted avg       0.49      0.51      0.48      2310\n",
      "\n"
     ]
    }
   ],
   "source": [
    "svm_model = SVC(kernel='linear', random_state=42)\n",
    "svm_model.fit(X_train_glove, y_train)\n",
    "y_pred_svm = svm_model.predict(X_val_glove)\n",
    "print(\"GloVe + Support Vector Machine Performance:\")\n",
    "print(classification_report(y_val, y_pred_svm))"
   ]
  },
  {
   "cell_type": "markdown",
   "id": "74940ba9-b68f-41ed-a6a4-8053a67dd87c",
   "metadata": {},
   "source": [
    "### Logistic Regression"
   ]
  },
  {
   "cell_type": "code",
   "execution_count": 81,
   "id": "1fe66fd7-48cb-4af7-860c-13cc0cdd6721",
   "metadata": {},
   "outputs": [
    {
     "name": "stdout",
     "output_type": "stream",
     "text": [
      "GloVe + Logistic Regression Performance:\n",
      "              precision    recall  f1-score   support\n",
      "\n",
      "           1       0.63      0.66      0.64       479\n",
      "           2       0.45      0.22      0.29       224\n",
      "           3       0.49      0.30      0.37       295\n",
      "           4       0.58      0.55      0.57       520\n",
      "           5       0.44      0.57      0.49       792\n",
      "\n",
      "    accuracy                           0.51      2310\n",
      "   macro avg       0.52      0.46      0.47      2310\n",
      "weighted avg       0.52      0.51      0.51      2310\n",
      "\n"
     ]
    }
   ],
   "source": [
    "logreg_model = LogisticRegression(max_iter=1000, random_state = 42)\n",
    "logreg_model.fit(X_train_glove, y_train)\n",
    "y_pred_logreg = logreg_model.predict(X_val_glove)\n",
    "print(\"GloVe + Logistic Regression Performance:\")\n",
    "print(classification_report(y_val, y_pred_logreg))"
   ]
  },
  {
   "cell_type": "markdown",
   "id": "585bd06b-e9b1-4c65-a75e-0388d7cb538a",
   "metadata": {},
   "source": [
    "## Comparison of results with GloVe"
   ]
  },
  {
   "cell_type": "code",
   "execution_count": 29,
   "id": "42dba394-4a2e-49ba-bebf-e4c7ac93cbdc",
   "metadata": {},
   "outputs": [],
   "source": [
    "# Dictionary to store GloVe model results\n",
    "results_glove = {\n",
    "    'Model': [],\n",
    "    'Accuracy': [],\n",
    "    'Precision (weighted avg)': [],\n",
    "    'Recall (weighted avg)': [],\n",
    "    'F1-Score (weighted avg)': []\n",
    "}\n",
    "\n",
    "# Helper function to evaluate and store GloVe model results\n",
    "def evaluate_model_glove(model_name, model, X_train, y_train, X_val, y_val):\n",
    "    # Train the model\n",
    "    model.fit(X_train, y_train)\n",
    "    \n",
    "    # Predict on validation set\n",
    "    y_pred = model.predict(X_val)\n",
    "    \n",
    "    # Get classification report\n",
    "    report = classification_report(y_val, y_pred, output_dict=True)\n",
    "    \n",
    "    # Store the results\n",
    "    results_glove['Model'].append(model_name)\n",
    "    results_glove['Accuracy'].append(accuracy_score(y_val, y_pred))\n",
    "    results_glove['Precision (weighted avg)'].append(report['weighted avg']['precision'])\n",
    "    results_glove['Recall (weighted avg)'].append(report['weighted avg']['recall'])\n",
    "    results_glove['F1-Score (weighted avg)'].append(report['weighted avg']['f1-score'])\n",
    "\n",
    "# 1. Gaussian Naive Bayes\n",
    "nb_model = GaussianNB()\n",
    "evaluate_model_glove(\"Gaussian Naive Bayes\", nb_model, X_train_glove, y_train, X_val_glove, y_val)\n",
    "\n",
    "# 2. Decision Tree\n",
    "dt_model = DecisionTreeClassifier(random_state=42)\n",
    "evaluate_model_glove(\"Decision Tree\", dt_model, X_train_glove, y_train, X_val_glove, y_val)\n",
    "\n",
    "# 3. Support Vector Machine (SVM)\n",
    "svm_model = SVC(kernel='linear', random_state=42)\n",
    "evaluate_model_glove(\"Support Vector Machine\", svm_model, X_train_glove, y_train, X_val_glove, y_val)\n",
    "\n",
    "# 4. Logistic Regression\n",
    "logreg_model = LogisticRegression(max_iter = 1000, random_state = 42)\n",
    "evaluate_model_glove(\"Logistic Regression\", logreg_model, X_train_glove, y_train, X_val_glove, y_val)"
   ]
  },
  {
   "cell_type": "code",
   "execution_count": 30,
   "id": "0d639601-4478-44ff-b2af-06602344e87e",
   "metadata": {},
   "outputs": [
    {
     "data": {
      "image/png": "[encoded data removed]",
      "text/plain": [
       "<Figure size 1000x600 with 2 Axes>"
      ]
     },
     "metadata": {},
     "output_type": "display_data"
    }
   ],
   "source": [
    "# Convert the results dictionary into a DataFrame\n",
    "results_df_glove = pd.DataFrame(results_glove)\n",
    "\n",
    "# Set up the figure for the heatmap\n",
    "plt.figure(figsize=(10, 6))\n",
    "sns.heatmap(results_df_glove.set_index('Model').T, annot=True, cmap='viridis', linewidths=0.5, fmt=\".2f\")\n",
    "plt.title('Comparison of Model Performance using GloVe Feature Representation')\n",
    "plt.show()\n"
   ]
  },
  {
   "cell_type": "markdown",
   "id": "0a1857b1-34c5-4c57-896e-2e818b177146",
   "metadata": {},
   "source": [
    "## Final comparing TF-IDF and Word2vec and GloVe"
   ]
  },
  {
   "cell_type": "code",
   "execution_count": 31,
   "id": "23b8a05e-1d92-4a73-8279-c1d09f86c193",
   "metadata": {},
   "outputs": [
    {
     "name": "stdout",
     "output_type": "stream",
     "text": [
      "                     Model Feature Representation  Accuracy  \\\n",
      "0     Gaussian Naive Bayes                  GloVe      0.41   \n",
      "1            Decision Tree                  GloVe      0.24   \n",
      "2   Support Vector Machine                  GloVe      0.51   \n",
      "3      Logistic Regression                  GloVe      0.51   \n",
      "0     Gaussian Naive Bayes               Word2Vec      0.47   \n",
      "1            Decision Tree               Word2Vec      0.33   \n",
      "2   Support Vector Machine               Word2Vec      0.57   \n",
      "3      Logistic Regression               Word2Vec      0.57   \n",
      "0  Multinomial Naive Bayes                 TF-IDF      0.51   \n",
      "1            Decision Tree                 TF-IDF      0.43   \n",
      "2   Support Vector Machine                 TF-IDF      0.58   \n",
      "3      Logistic Regression                 TF-IDF      0.58   \n",
      "\n",
      "   Precision (weighted avg)  Recall (weighted avg)  F1-Score (weighted avg)  \n",
      "0                      0.42                   0.41                     0.40  \n",
      "1                      0.25                   0.24                     0.24  \n",
      "2                      0.49                   0.51                     0.48  \n",
      "3                      0.52                   0.51                     0.51  \n",
      "0                      0.48                   0.47                     0.45  \n",
      "1                      0.33                   0.33                     0.33  \n",
      "2                      0.58                   0.57                     0.57  \n",
      "3                      0.57                   0.57                     0.57  \n",
      "0                      0.58                   0.51                     0.46  \n",
      "1                      0.42                   0.43                     0.42  \n",
      "2                      0.57                   0.57                     0.57  \n",
      "3                      0.58                   0.58                     0.57  \n"
     ]
    }
   ],
   "source": [
    "# Updated results from GloVe\n",
    "glove_results = {\n",
    "    'Model': ['Gaussian Naive Bayes', 'Decision Tree', 'Support Vector Machine', 'Logistic Regression'],\n",
    "    'Feature Representation': ['GloVe'] * 4,\n",
    "    'Accuracy': [0.41, 0.24, 0.51, 0.51],\n",
    "    'Precision (weighted avg)': [0.42, 0.25, 0.49, 0.52],\n",
    "    'Recall (weighted avg)': [0.41, 0.24, 0.51, 0.51],\n",
    "    'F1-Score (weighted avg)': [0.40, 0.24, 0.48, 0.51]\n",
    "}\n",
    "\n",
    "# Updated results from Word2Vec\n",
    "word2vec_results = {\n",
    "    'Model': ['Gaussian Naive Bayes', 'Decision Tree', 'Support Vector Machine', 'Logistic Regression'],\n",
    "    'Feature Representation': ['Word2Vec'] * 4,\n",
    "    'Accuracy': [0.47, 0.33, 0.57, 0.57],\n",
    "    'Precision (weighted avg)': [0.48, 0.33, 0.58, 0.57],\n",
    "    'Recall (weighted avg)': [0.47, 0.33, 0.57, 0.57],\n",
    "    'F1-Score (weighted avg)': [0.45, 0.33, 0.57, 0.57]\n",
    "}\n",
    "\n",
    "# Updated results from TF-IDF\n",
    "tfidf_results = {\n",
    "    'Model': ['Multinomial Naive Bayes', 'Decision Tree', 'Support Vector Machine', 'Logistic Regression'],\n",
    "    'Feature Representation': ['TF-IDF'] * 4,\n",
    "    'Accuracy': [0.51, 0.43, 0.58, 0.58],\n",
    "    'Precision (weighted avg)': [0.58, 0.42, 0.57, 0.58],\n",
    "    'Recall (weighted avg)': [0.51, 0.43, 0.57, 0.58],\n",
    "    'F1-Score (weighted avg)': [0.46, 0.42, 0.57, 0.57]\n",
    "}\n",
    "\n",
    "# Convert results dictionaries to DataFrames\n",
    "df_glove_results = pd.DataFrame(glove_results)\n",
    "df_word2vec_results = pd.DataFrame(word2vec_results)\n",
    "df_tfidf_results = pd.DataFrame(tfidf_results)\n",
    "\n",
    "# Concatenate the results to create a single DataFrame for comparison\n",
    "comparison_df = pd.concat([df_glove_results, df_word2vec_results, df_tfidf_results])\n",
    "\n",
    "# Display the comparison DataFrame\n",
    "print(comparison_df)\n"
   ]
  },
  {
   "cell_type": "markdown",
   "id": "4befb1c9-9bfe-4ac8-ab5a-285f36b5b0bc",
   "metadata": {},
   "source": [
    "# SBERT model implementation"
   ]
  },
  {
   "cell_type": "code",
   "execution_count": 32,
   "id": "0bf88210-8283-42c9-b27a-c2542e7d8214",
   "metadata": {},
   "outputs": [],
   "source": [
    "# pip install sentence-transformers\n",
    "# pip install ipywidgets"
   ]
  },
  {
   "cell_type": "markdown",
   "id": "cca0b080-3275-4293-afa5-88abf90801bc",
   "metadata": {},
   "source": [
    "### Import SBERT and Load Pre-trained Model"
   ]
  },
  {
   "cell_type": "code",
   "execution_count": 35,
   "id": "018fe317-2a5e-4587-b93c-76f16c56186a",
   "metadata": {},
   "outputs": [],
   "source": [
    "# Load a pre-trained SBERT model\n",
    "sbert_model = SentenceTransformer('all-MiniLM-L6-v2')"
   ]
  },
  {
   "cell_type": "markdown",
   "id": "64aa4540-0873-4237-9283-aa5e44b38243",
   "metadata": {},
   "source": [
    "## Generating Sentence Embeddings"
   ]
  },
  {
   "cell_type": "code",
   "execution_count": 38,
   "id": "93c70e5d-40c4-4dea-8703-c2d5fed1ee28",
   "metadata": {},
   "outputs": [],
   "source": [
    "# Generate sentence embeddings for the training and validation sets\n",
    "X_train_embeddings = sbert_model.encode(X_train.tolist(), convert_to_tensor=True)\n",
    "X_val_embeddings = sbert_model.encode(X_val.tolist(), convert_to_tensor=True)\n",
    "\n",
    "# Convert embeddings to numpy arrays (optional)\n",
    "X_train_embeddings = X_train_embeddings.cpu().numpy()\n",
    "X_val_embeddings = X_val_embeddings.cpu().numpy()"
   ]
  },
  {
   "cell_type": "markdown",
   "id": "d2bb2077-5883-42ed-b5b2-ae1b2014273c",
   "metadata": {},
   "source": [
    "## Train and Evaluate Models"
   ]
  },
  {
   "cell_type": "markdown",
   "id": "14a991ba-c2b7-4a50-9482-803db0b2883b",
   "metadata": {},
   "source": [
    "### Naive Bayes"
   ]
  },
  {
   "cell_type": "markdown",
   "id": "26f729ee-6ce5-4480-aa1a-cec42107cd62",
   "metadata": {},
   "source": [
    "# Train Gaussian Naive Bayes using SBERT embeddings\n",
    "gnb_model = GaussianNB()\n",
    "gnb_model.fit(X_train_embeddings, y_train)\n",
    "\n",
    "# Predict on validation set\n",
    "y_pred_gnb = gnb_model.predict(X_val_embeddings)\n",
    "\n",
    "# Evaluate performance\n",
    "print(\"SBERT + Gaussian Naive Bayes Performance:\")\n",
    "print(classification_report(y_val, y_pred_gnb))\n"
   ]
  },
  {
   "cell_type": "markdown",
   "id": "b3b223f5-0092-46d4-b0a7-a8b053848fdb",
   "metadata": {},
   "source": [
    "### Logistic Regression"
   ]
  },
  {
   "cell_type": "code",
   "execution_count": 43,
   "id": "5c4a17b3-2c4b-4277-b002-edc9f8fe24d5",
   "metadata": {},
   "outputs": [
    {
     "name": "stdout",
     "output_type": "stream",
     "text": [
      "SBERT + Logistic Regression Performance:\n",
      "              precision    recall  f1-score   support\n",
      "\n",
      "           1       0.72      0.79      0.75       479\n",
      "           2       0.55      0.49      0.52       224\n",
      "           3       0.57      0.48      0.52       295\n",
      "           4       0.69      0.76      0.72       520\n",
      "           5       0.56      0.54      0.55       792\n",
      "\n",
      "    accuracy                           0.63      2310\n",
      "   macro avg       0.62      0.61      0.61      2310\n",
      "weighted avg       0.62      0.63      0.62      2310\n",
      "\n"
     ]
    }
   ],
   "source": [
    "# Train Logistic Regression using SBERT embeddings\n",
    "logreg_model = LogisticRegression(max_iter=1000, random_state=42)\n",
    "logreg_model.fit(X_train_embeddings, y_train)\n",
    "\n",
    "# Predict on validation set\n",
    "y_pred_logreg = logreg_model.predict(X_val_embeddings)\n",
    "\n",
    "# Evaluate performance\n",
    "print(\"SBERT + Logistic Regression Performance:\")\n",
    "print(classification_report(y_val, y_pred_logreg))"
   ]
  },
  {
   "cell_type": "markdown",
   "id": "3cbe2e93-c874-40a4-8eea-774555d9170d",
   "metadata": {},
   "source": [
    "### Support Vector Machine"
   ]
  },
  {
   "cell_type": "code",
   "execution_count": 45,
   "id": "fba2ae9c-af67-4e8f-8be2-1695004f9431",
   "metadata": {},
   "outputs": [
    {
     "name": "stdout",
     "output_type": "stream",
     "text": [
      "SBERT + SVM Performance:\n",
      "              precision    recall  f1-score   support\n",
      "\n",
      "           1       0.71      0.82      0.76       479\n",
      "           2       0.55      0.54      0.54       224\n",
      "           3       0.55      0.47      0.51       295\n",
      "           4       0.68      0.79      0.73       520\n",
      "           5       0.57      0.49      0.53       792\n",
      "\n",
      "    accuracy                           0.63      2310\n",
      "   macro avg       0.61      0.62      0.61      2310\n",
      "weighted avg       0.62      0.63      0.62      2310\n",
      "\n"
     ]
    }
   ],
   "source": [
    "# Train SVM using SBERT embeddings\n",
    "svm_model = SVC(kernel='linear', random_state=42)\n",
    "svm_model.fit(X_train_embeddings, y_train)\n",
    "\n",
    "# Predict on validation set\n",
    "y_pred_svm = svm_model.predict(X_val_embeddings)\n",
    "\n",
    "# Evaluate performance\n",
    "print(\"SBERT + SVM Performance:\")\n",
    "print(classification_report(y_val, y_pred_svm))"
   ]
  },
  {
   "cell_type": "markdown",
   "id": "4c425c35-4d01-43e7-847e-b9450cdd5180",
   "metadata": {},
   "source": [
    "### Decision Tree"
   ]
  },
  {
   "cell_type": "code",
   "execution_count": 47,
   "id": "3909769e-f2b5-433e-b9fc-1dc3035759bb",
   "metadata": {},
   "outputs": [
    {
     "name": "stdout",
     "output_type": "stream",
     "text": [
      "SBERT + Decision Tree Performance:\n",
      "              precision    recall  f1-score   support\n",
      "\n",
      "           1       0.48      0.55      0.51       479\n",
      "           2       0.19      0.23      0.21       224\n",
      "           3       0.18      0.20      0.19       295\n",
      "           4       0.47      0.45      0.46       520\n",
      "           5       0.29      0.24      0.26       792\n",
      "\n",
      "    accuracy                           0.35      2310\n",
      "   macro avg       0.32      0.34      0.33      2310\n",
      "weighted avg       0.35      0.35      0.35      2310\n",
      "\n"
     ]
    }
   ],
   "source": [
    "# Train Decision Tree using SBERT embeddings\n",
    "dt_model = DecisionTreeClassifier(random_state=42)\n",
    "dt_model.fit(X_train_embeddings, y_train)\n",
    "\n",
    "# Predict on validation set\n",
    "y_pred_dt = dt_model.predict(X_val_embeddings)\n",
    "\n",
    "# Evaluate performance\n",
    "print(\"SBERT + Decision Tree Performance:\")\n",
    "print(classification_report(y_val, y_pred_dt))"
   ]
  },
  {
   "cell_type": "markdown",
   "id": "93930ad7-ee22-4ef5-9121-9048845a773b",
   "metadata": {},
   "source": [
    "## Comparison of result with sentence embedding"
   ]
  },
  {
   "cell_type": "code",
   "execution_count": 47,
   "id": "fd584417-00ad-45d3-9b03-1b9f40f84a91",
   "metadata": {},
   "outputs": [
    {
     "data": {
      "image/png": "[encoded data removed]",
      "text/plain": [
       "<Figure size 1000x600 with 2 Axes>"
      ]
     },
     "metadata": {},
     "output_type": "display_data"
    }
   ],
   "source": [
    "# Dictionary to store SBERT model results\n",
    "results_sbert = {\n",
    "    'Model': [],\n",
    "    'Accuracy': [],\n",
    "    'Precision (weighted avg)': [],\n",
    "    'Recall (weighted avg)': [],\n",
    "    'F1-Score (weighted avg)': []\n",
    "}\n",
    "\n",
    "# Helper function to evaluate and store SBERT model results\n",
    "def evaluate_model_sbert(model_name, model, X_train, y_train, X_val, y_val):\n",
    "    # Train the model\n",
    "    model.fit(X_train, y_train)\n",
    "    \n",
    "    # Predict on validation set\n",
    "    y_pred = model.predict(X_val)\n",
    "    \n",
    "    # Get classification report\n",
    "    report = classification_report(y_val, y_pred, output_dict=True)\n",
    "    \n",
    "    # Store the results\n",
    "    results_sbert['Model'].append(model_name)\n",
    "    results_sbert['Accuracy'].append(accuracy_score(y_val, y_pred))\n",
    "    results_sbert['Precision (weighted avg)'].append(report['weighted avg']['precision'])\n",
    "    results_sbert['Recall (weighted avg)'].append(report['weighted avg']['recall'])\n",
    "    results_sbert['F1-Score (weighted avg)'].append(report['weighted avg']['f1-score'])\n",
    "\n",
    "# 1. Gaussian Naive Bayes\n",
    "gnb_model = GaussianNB()\n",
    "evaluate_model_sbert(\"Gaussian Naive Bayes\", gnb_model, X_train_embeddings, y_train, X_val_embeddings, y_val)\n",
    "\n",
    "# 2. Decision Tree\n",
    "dt_model = DecisionTreeClassifier(random_state=42)\n",
    "evaluate_model_sbert(\"Decision Tree\", dt_model, X_train_embeddings, y_train, X_val_embeddings, y_val)\n",
    "\n",
    "# 3. Support Vector Machine (SVM)\n",
    "svm_model = SVC(kernel='linear', random_state=42)\n",
    "evaluate_model_sbert(\"Support Vector Machine\", svm_model, X_train_embeddings, y_train, X_val_embeddings, y_val)\n",
    "\n",
    "# 4. Logistic Regression\n",
    "logreg_model = LogisticRegression(max_iter=1000, random_state=42)\n",
    "evaluate_model_sbert(\"Logistic Regression\", logreg_model, X_train_embeddings, y_train, X_val_embeddings, y_val)\n",
    "\n",
    "# Convert results dictionary to DataFrame\n",
    "results_df_sbert = pd.DataFrame(results_sbert)\n",
    "\n",
    "# Heatmap of results\n",
    "plt.figure(figsize=(10, 6))\n",
    "sns.heatmap(results_df_sbert.set_index('Model').T, annot=True, cmap='viridis', linewidths=0.5, fmt=\".2f\")\n",
    "plt.title('Comparison of Model Performance with SBERT Embeddings')\n",
    "plt.show()"
   ]
  },
  {
   "cell_type": "markdown",
   "id": "36215aff-544e-4a01-a9f1-2cbba7d59e10",
   "metadata": {},
   "source": [
    "# BioBERT model implementation"
   ]
  },
  {
   "cell_type": "code",
   "execution_count": 14,
   "id": "b48627d8-1b6c-4f34-b4b0-36d7e4cb206c",
   "metadata": {},
   "outputs": [],
   "source": [
    "#pip install transformers"
   ]
  },
  {
   "cell_type": "markdown",
   "id": "ff15f91a-0922-451e-8c88-a1807ec5aefa",
   "metadata": {},
   "source": [
    "### Import BioBERT and Load Pre-trained Model"
   ]
  },
  {
   "cell_type": "code",
   "execution_count": 15,
   "id": "3fc1b9f2-0b41-4f37-906e-fb5c7891e09a",
   "metadata": {},
   "outputs": [
    {
     "data": {
      "application/vnd.jupyter.widget-view+json": {
       "model_id": "5f51bc40c2b349868da97bf7a64a6232",
       "version_major": 2,
       "version_minor": 0
      },
      "text/plain": [
       "config.json:   0%|          | 0.00/313 [00:00<?, ?B/s]"
      ]
     },
     "metadata": {},
     "output_type": "display_data"
    },
    {
     "name": "stderr",
     "output_type": "stream",
     "text": [
      "C:\\Users\\ayoub\\AppData\\Local\\Programs\\Python\\Python312\\Lib\\site-packages\\huggingface_hub\\file_download.py:139: UserWarning: `huggingface_hub` cache-system uses symlinks by default to efficiently store duplicated files but your machine does not support them in C:\\Users\\ayoub\\.cache\\huggingface\\hub\\models--dmis-lab--biobert-base-cased-v1.1. Caching files will still work but in a degraded version that might require more space on your disk. This warning can be disabled by setting the `HF_HUB_DISABLE_SYMLINKS_WARNING` environment variable. For more details, see https://huggingface.co/docs/huggingface_hub/how-to-cache#limitations.\n",
      "To support symlinks on Windows, you either need to activate Developer Mode or to run Python as an administrator. In order to activate developer mode, see this article: https://docs.microsoft.com/en-us/windows/apps/get-started/enable-your-device-for-development\n",
      "  warnings.warn(message)\n"
     ]
    },
    {
     "data": {
      "application/vnd.jupyter.widget-view+json": {
       "model_id": "c8b398cf5e5c4edbb8a8efb9d3c3c33a",
       "version_major": 2,
       "version_minor": 0
      },
      "text/plain": [
       "vocab.txt:   0%|          | 0.00/213k [00:00<?, ?B/s]"
      ]
     },
     "metadata": {},
     "output_type": "display_data"
    },
    {
     "data": {
      "application/vnd.jupyter.widget-view+json": {
       "model_id": "38a702d5ea1c408a880aa9de56ae5600",
       "version_major": 2,
       "version_minor": 0
      },
      "text/plain": [
       "pytorch_model.bin:   0%|          | 0.00/436M [00:00<?, ?B/s]"
      ]
     },
     "metadata": {},
     "output_type": "display_data"
    }
   ],
   "source": [
    "tokenizer = AutoTokenizer.from_pretrained(\"dmis-lab/biobert-base-cased-v1.1\")\n",
    "model = AutoModel.from_pretrained(\"dmis-lab/biobert-base-cased-v1.1\")"
   ]
  },
  {
   "cell_type": "markdown",
   "id": "40c95f06-ebef-4d4c-8d06-bfcc27a644cd",
   "metadata": {},
   "source": [
    "### Generating Sentence Embeddings and Tokenization"
   ]
  },
  {
   "cell_type": "code",
   "execution_count": 18,
   "id": "a92876fe-a9d7-4e04-8a78-1e7e058d4eed",
   "metadata": {},
   "outputs": [],
   "source": [
    "# Helper function for BioBERT embeddings\n",
    "def get_biobert_embeddings(text_list, tokenizer, model):\n",
    "    \"\"\"Generate embeddings for a list of texts using BioBERT.\"\"\"\n",
    "    embeddings = []\n",
    "    for text in text_list:\n",
    "        # Tokenize the text and generate inputs\n",
    "        inputs = tokenizer(text, return_tensors=\"pt\", padding=True, truncation=True, max_length=512)\n",
    "        \n",
    "        # Pass inputs through the BioBERT model\n",
    "        with torch.no_grad():  # Disable gradient calculation\n",
    "            outputs = model(**inputs)\n",
    "        \n",
    "        # Extract CLS token embeddings (first token)\n",
    "        cls_embedding = outputs.last_hidden_state[:, 0, :].squeeze().numpy()\n",
    "        embeddings.append(cls_embedding)\n",
    "    \n",
    "    return np.array(embeddings)\n",
    "\n",
    "# Generate embeddings for training and validation sets\n",
    "X_train_biobert = get_biobert_embeddings(X_train.tolist(), tokenizer, model)\n",
    "X_val_biobert = get_biobert_embeddings(X_val.tolist(), tokenizer, model)"
   ]
  },
  {
   "cell_type": "markdown",
   "id": "e7df6aba-c882-43fe-9b35-928f1f130c65",
   "metadata": {},
   "source": [
    "## Train and Evaluate Models"
   ]
  },
  {
   "cell_type": "markdown",
   "id": "eb6c3eec-28ea-4f73-999f-372f542999d3",
   "metadata": {},
   "source": [
    "### Naives Bayes"
   ]
  },
  {
   "cell_type": "code",
   "execution_count": 22,
   "id": "16061a3e-b499-4742-8c84-fd75fe95a4c4",
   "metadata": {},
   "outputs": [
    {
     "name": "stdout",
     "output_type": "stream",
     "text": [
      "BioBERT + Gaussian Naive Bayes Performance:\n",
      "              precision    recall  f1-score   support\n",
      "\n",
      "           1       0.66      0.53      0.58       479\n",
      "           2       0.36      0.44      0.40       224\n",
      "           3       0.28      0.54      0.37       295\n",
      "           4       0.41      0.67      0.51       520\n",
      "           5       0.48      0.14      0.22       792\n",
      "\n",
      "    accuracy                           0.42      2310\n",
      "   macro avg       0.44      0.46      0.41      2310\n",
      "weighted avg       0.46      0.42      0.40      2310\n",
      "\n"
     ]
    }
   ],
   "source": [
    "# Train Gaussian Naive Bayes using BioBERT embeddings\n",
    "gnb_model = GaussianNB()\n",
    "gnb_model.fit(X_train_biobert, y_train)\n",
    "\n",
    "# Predict on validation set\n",
    "y_pred_gnb = gnb_model.predict(X_val_biobert)\n",
    "\n",
    "# Evaluate performance\n",
    "print(\"BioBERT + Gaussian Naive Bayes Performance:\")\n",
    "print(classification_report(y_val, y_pred_gnb))"
   ]
  },
  {
   "cell_type": "markdown",
   "id": "49233566-2778-4c26-a294-717594debef1",
   "metadata": {},
   "source": [
    "### Decision Tree"
   ]
  },
  {
   "cell_type": "code",
   "execution_count": 23,
   "id": "426a274a-353f-454e-b463-01a705928493",
   "metadata": {},
   "outputs": [
    {
     "name": "stdout",
     "output_type": "stream",
     "text": [
      "BioBERT + Decision Tree Performance:\n",
      "              precision    recall  f1-score   support\n",
      "\n",
      "           1       0.32      0.36      0.34       479\n",
      "           2       0.11      0.13      0.12       224\n",
      "           3       0.14      0.17      0.15       295\n",
      "           4       0.32      0.32      0.32       520\n",
      "           5       0.20      0.15      0.17       792\n",
      "\n",
      "    accuracy                           0.23      2310\n",
      "   macro avg       0.22      0.23      0.22      2310\n",
      "weighted avg       0.23      0.23      0.23      2310\n",
      "\n"
     ]
    }
   ],
   "source": [
    "# Train Decision Tree using BioBERT embeddings\n",
    "dt_model = DecisionTreeClassifier(random_state=42)\n",
    "dt_model.fit(X_train_biobert, y_train)\n",
    "\n",
    "# Predict on validation set\n",
    "y_pred_dt = dt_model.predict(X_val_biobert)\n",
    "\n",
    "# Evaluate performance\n",
    "print(\"BioBERT + Decision Tree Performance:\")\n",
    "print(classification_report(y_val, y_pred_dt))"
   ]
  },
  {
   "cell_type": "markdown",
   "id": "1f835da5-0630-45ab-9972-f26d3c31e40f",
   "metadata": {},
   "source": [
    "### Logistic Regression"
   ]
  },
  {
   "cell_type": "code",
   "execution_count": 26,
   "id": "6aa928c4-3011-4ab0-9316-b363faaa5cde",
   "metadata": {},
   "outputs": [
    {
     "name": "stdout",
     "output_type": "stream",
     "text": [
      "BioBERT + Logistic Regression Performance:\n",
      "              precision    recall  f1-score   support\n",
      "\n",
      "           1       0.69      0.74      0.72       479\n",
      "           2       0.48      0.45      0.46       224\n",
      "           3       0.45      0.43      0.44       295\n",
      "           4       0.66      0.65      0.65       520\n",
      "           5       0.46      0.46      0.46       792\n",
      "\n",
      "    accuracy                           0.56      2310\n",
      "   macro avg       0.55      0.55      0.55      2310\n",
      "weighted avg       0.55      0.56      0.55      2310\n",
      "\n"
     ]
    }
   ],
   "source": [
    "# Train Logistic Regression using BioBERT embeddings\n",
    "logreg_model = LogisticRegression(max_iter=1500, random_state=42)\n",
    "logreg_model.fit(X_train_biobert, y_train)\n",
    "\n",
    "# Predict on validation set\n",
    "y_pred_logreg = logreg_model.predict(X_val_biobert)\n",
    "\n",
    "# Evaluate performance\n",
    "print(\"BioBERT + Logistic Regression Performance:\")\n",
    "print(classification_report(y_val, y_pred_logreg))"
   ]
  },
  {
   "cell_type": "markdown",
   "id": "2f2d326a-e801-48ca-aade-ffebc2281c29",
   "metadata": {},
   "source": [
    "### SVM (Support Vector Machine)"
   ]
  },
  {
   "cell_type": "code",
   "execution_count": 25,
   "id": "54d8963d-2b7b-4bec-9a35-2184a226b0ca",
   "metadata": {},
   "outputs": [
    {
     "name": "stdout",
     "output_type": "stream",
     "text": [
      "BioBERT + SVM Performance:\n",
      "              precision    recall  f1-score   support\n",
      "\n",
      "           1       0.66      0.75      0.70       479\n",
      "           2       0.44      0.43      0.44       224\n",
      "           3       0.44      0.43      0.43       295\n",
      "           4       0.64      0.66      0.65       520\n",
      "           5       0.45      0.41      0.43       792\n",
      "\n",
      "    accuracy                           0.54      2310\n",
      "   macro avg       0.53      0.54      0.53      2310\n",
      "weighted avg       0.53      0.54      0.54      2310\n",
      "\n"
     ]
    }
   ],
   "source": [
    "# Train SVM using BioBERT embeddings\n",
    "svm_model = SVC(kernel='linear', random_state=42)\n",
    "svm_model.fit(X_train_biobert, y_train)\n",
    "\n",
    "# Predict on validation set\n",
    "y_pred_svm = svm_model.predict(X_val_biobert)\n",
    "\n",
    "# Evaluate performance\n",
    "print(\"BioBERT + SVM Performance:\")\n",
    "print(classification_report(y_val, y_pred_svm))"
   ]
  }
 ],
 "metadata": {
  "kernelspec": {
   "display_name": "Python 3 (ipykernel)",
   "language": "python",
   "name": "python3"
  },
  "language_info": {
   "codemirror_mode": {
    "name": "ipython",
    "version": 3
   },
   "file_extension": ".py",
   "mimetype": "text/x-python",
   "name": "python",
   "nbconvert_exporter": "python",
   "pygments_lexer": "ipython3",
   "version": "3.12.4"
  }
 },
 "nbformat": 4,
 "nbformat_minor": 5
}
